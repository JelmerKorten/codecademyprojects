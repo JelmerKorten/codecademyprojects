{
 "cells": [
  {
   "cell_type": "markdown",
   "metadata": {},
   "source": [
    "# Casual Coded Correspondence: The Project\n",
    "\n",
    "In this project, you will be working to code and decode various messages between you and your fictional cryptography enthusiast pen pal Vishal. You and Vishal have been exchanging letters for quite some time now and have started to provide a puzzle in each one of your letters.  Here is his most recent letter:\n",
    "\n",
    "     Hey there! How have you been? I've been great! I just learned about this really cool type of cipher called a  Caesar Cipher. Here's how it works: You take your message, something like \"hello\" and then you shift all of the letters by a certain offset. For example, if I chose an offset of 3 and a message of \"hello\", I would code my message by shifting each letter 3 places to the left (with respect to the alphabet). So \"h\" becomes \"e\", \"e\" becomes, \"b\", \"l\" becomes \"i\", and \"o\" becomes \"l\". Then I have my coded message,\"ebiil\"! Now I can send you my message and the offset and you can decode it. The best thing is that Julius Caesar himself used this cipher, that's why it's called the Caesar Cipher! Isn't that so cool! Okay, now I'm going to send you a longer coded message that you have to decode yourself!\n",
    "    \n",
    "        xuo jxuhu! jxyi yi qd unqcfbu ev q squiqh syfxuh. muhu oek qrbu je tusetu yj? y xefu ie! iudt cu q cuiiqwu rqsa myjx jxu iqcu evviuj!\n",
    "    \n",
    "    This message has an offset of 10. Can you decode it?\n",
    "    \n",
    "\n",
    "#### Step 1: Decode Vishal's Message\n",
    "In the cell below, use your Python skills to decode Vishal's message and print the result. Hint: you can account for shifts that go past the end of the alphabet using the modulus operator, but I'll let you figure out how!"
   ]
  },
  {
   "cell_type": "code",
   "execution_count": 1,
   "metadata": {},
   "outputs": [],
   "source": [
    "#create a decoder\n",
    "#placeholder for the alphabet\n",
    "alphabet = 'abcdefghijklmnopqrstuvwxyz'\n",
    "#function\n",
    "def stringdecoder(string,offset):\n",
    "    new_string = [] #temp new string list\n",
    "\n",
    "    for character in string.lower():\n",
    "        if character in [' ','?','!','.',',','\\'']: #if it's one of these chars, dont change\n",
    "            new_string.append(character)\n",
    "        else: #if it's one of these, change by offset\n",
    "            charindex = alphabet.find(character)\n",
    "            newchar = alphabet[(charindex + offset)%26] #allows for overflow to go back to start of alphabet\n",
    "            new_string.append(newchar)\n",
    "    return ''.join(new_string) #join the list of chars together in a string (I feel we can skip this step possibly..)"
   ]
  },
  {
   "cell_type": "code",
   "execution_count": 2,
   "metadata": {},
   "outputs": [
    {
     "name": "stdout",
     "output_type": "stream",
     "text": [
      "ebiil\n"
     ]
    }
   ],
   "source": [
    "#test the decoder\n",
    "# note that in above example we have to use -3 offset for offset to the left\n",
    "test = stringdecoder('hello',-3)\n",
    "print(test)"
   ]
  },
  {
   "cell_type": "code",
   "execution_count": 3,
   "metadata": {},
   "outputs": [
    {
     "data": {
      "text/plain": [
       "'a'"
      ]
     },
     "execution_count": 3,
     "metadata": {},
     "output_type": "execute_result"
    }
   ],
   "source": [
    "#testing overflow\n",
    "stringdecoder('z',1)"
   ]
  },
  {
   "cell_type": "code",
   "execution_count": 4,
   "metadata": {},
   "outputs": [
    {
     "name": "stdout",
     "output_type": "stream",
     "text": [
      "hey there! this is an example of a caesar cipher. were you able to decode it? i hope so! send me a message back with the same offset!\n"
     ]
    }
   ],
   "source": [
    "#decode the long message\n",
    "longmessage = 'xuo jxuhu! jxyi yi qd unqcfbu ev q squiqh syfxuh. muhu oek qrbu je tusetu yj? y xefu ie! iudt cu q cuiiqwu rqsa myjx jxu iqcu evviuj!'\n",
    "longtext = stringdecoder(longmessage,10)\n",
    "print(longtext)"
   ]
  },
  {
   "cell_type": "markdown",
   "metadata": {},
   "source": [
    "#### Step 2: Send Vishal a Coded Message\n",
    "Great job! Now send Vishal back a message using the same offset. Your message can be anything you want! Remember, coding happens in opposite direction of decoding."
   ]
  },
  {
   "cell_type": "code",
   "execution_count": 5,
   "metadata": {},
   "outputs": [],
   "source": [
    "# create a coder function\n",
    "#basically the same, but we now - the offset instead of +\n",
    "def stringcoder(string,offset):\n",
    "    new_string = [] #temp new string list\n",
    "\n",
    "    for character in string.lower():\n",
    "        if character in [' ','?','!','.',',','\\'']: #if it's one of these chars, dont change\n",
    "            new_string.append(character)\n",
    "        else: #if it's one of these, change by offset\n",
    "            charindex = alphabet.find(character)\n",
    "            newchar = alphabet[(charindex - offset)%26] #allows for overflow to go back to start of alphabet \n",
    "            new_string.append(newchar)\n",
    "    return ''.join(new_string) #join the list of chars together in a string (I feel we can skip this step possibly..)"
   ]
  },
  {
   "cell_type": "code",
   "execution_count": 6,
   "metadata": {},
   "outputs": [
    {
     "data": {
      "text/plain": [
       "'hello'"
      ]
     },
     "execution_count": 6,
     "metadata": {},
     "output_type": "execute_result"
    }
   ],
   "source": [
    "#checking coder with our hello example.\n",
    "stringcoder('ebiil',-3)"
   ]
  },
  {
   "cell_type": "code",
   "execution_count": 7,
   "metadata": {},
   "outputs": [
    {
     "data": {
      "text/plain": [
       "'ebiil'"
      ]
     },
     "execution_count": 7,
     "metadata": {},
     "output_type": "execute_result"
    }
   ],
   "source": [
    "stringdecoder('hello',-3)"
   ]
  },
  {
   "cell_type": "code",
   "execution_count": 8,
   "metadata": {},
   "outputs": [
    {
     "data": {
      "text/plain": [
       "'xuo jxuhu! jxyi yi qd unqcfbu ev q squiqh syfxuh. muhu oek qrbu je tusetu yj? y xefu ie! iudt cu q cuiiqwu rqsa myjx jxu iqcu evviuj!'"
      ]
     },
     "execution_count": 8,
     "metadata": {},
     "output_type": "execute_result"
    }
   ],
   "source": [
    "#checking coder with our long example\n",
    "longtxt = 'hey there! this is an example of a caesar cipher. were you able to decode it? i hope so! send me a message back with the same offset!'\n",
    "stringcoder(longtxt,10)\n",
    "\n",
    "#looks the same."
   ]
  },
  {
   "cell_type": "markdown",
   "metadata": {},
   "source": [
    "#### Step 3: Make functions for decoding and coding \n",
    "\n",
    "Vishal sent over another reply, this time with two coded messages!\n",
    "    \n",
    "    You're getting the hang of this! Okay here are two more messages, the first one is coded just like before with  an offset of ten, and it contains the hint for decoding the second message!\n",
    "    \n",
    "    First message:\n",
    "    \n",
    "        jxu evviuj veh jxu iusedt cuiiqwu yi vekhjuud.\n",
    "        \n",
    "    Second message:\n",
    "    \n",
    "        bqdradyuzs ygxfubxq omqemd oubtqde fa oapq kagd yqeemsqe ue qhqz yadq eqogdq!\n",
    "    \n",
    "Decode both of these messages. \n",
    "\n",
    "If you haven't already, define two functions `decoder(message, offset)` and `coder(message, offset)` that can be used to quickly decode and code messages given any offset."
   ]
  },
  {
   "cell_type": "code",
   "execution_count": 9,
   "metadata": {},
   "outputs": [
    {
     "data": {
      "text/plain": [
       "'the offset for the second message is fourteen.'"
      ]
     },
     "execution_count": 9,
     "metadata": {},
     "output_type": "execute_result"
    }
   ],
   "source": [
    "#check first message\n",
    "stringdecoder('jxu evviuj veh jxu iusedt cuiiqwu yi vekhjuud.',10)"
   ]
  },
  {
   "cell_type": "code",
   "execution_count": 10,
   "metadata": {},
   "outputs": [
    {
     "data": {
      "text/plain": [
       "'performing multiple caesar ciphers to code your messages is even more secure!'"
      ]
     },
     "execution_count": 10,
     "metadata": {},
     "output_type": "execute_result"
    }
   ],
   "source": [
    "stringdecoder('bqdradyuzs ygxfubxq omqemd oubtqde fa oapq kagd yqeemsqe ue qhqz yadq eqogdq!',14)"
   ]
  },
  {
   "cell_type": "markdown",
   "metadata": {},
   "source": [
    "#### Step 4: Solving a Caesar Cipher without knowing the shift value\n",
    "\n",
    "Awesome work! While you were working to decode his last two messages, Vishal sent over another letter! He's really been bitten by the crytpo-bug. Read it and see what interesting task he has lined up for you this time.\n",
    "\n",
    "            Hello again friend! I knew you would love the Caesar Cipher, it's a cool simple way to encrypt messages. Did you know that back in Caesar's time, it was considered a very secure way of communication and it took a lot of effort to crack if you were unaware of the value of the shift? That's all changed with computers! Now we can brute force these kinds of ciphers very quickly, as I'm sure you can imagine.\n",
    "            \n",
    "            To test your cryptography skills, this next coded message is going to be harder than the last couple to crack. It's still going to be coded with a Caesar Cipher but this time I'm not going to tell you the value of   the shift. You'll have to brute force it yourself.\n",
    "            \n",
    "            Here's the coded message:\n",
    "            \n",
    "            vhfinmxkl atox kxgwxkxw tee hy maxlx hew vbiaxkl tl hulhexmx. px'ee atox mh kxteer lmxi ni hnk ztfx by px ptgm mh dxxi hnk fxlltzxl ltyx.\n",
    "            \n",
    "            Good luck!\n",
    "            \n",
    "Decode Vishal's most recent message and see what it says!"
   ]
  },
  {
   "cell_type": "code",
   "execution_count": 11,
   "metadata": {},
   "outputs": [
    {
     "name": "stdout",
     "output_type": "stream",
     "text": [
      "Offset: 0 \n",
      "vhfinmxkl atox kxgwxkxw tee hy maxlx hew vbiaxkl tl hulhexmx. px'ee atox mh kxteer lmxi ni hnk ztfx by px ptgm mh dxxi hnk fxlltzxl ltyx.\n",
      "Offset: 1 \n",
      "wigjonylm bupy lyhxylyx uff iz nbymy ifx wcjbylm um ivmifyny. qy'ff bupy ni lyuffs mnyj oj iol augy cz qy quhn ni eyyj iol gymmuaym muzy.\n",
      "Offset: 2 \n",
      "xjhkpozmn cvqz mziyzmzy vgg ja ocznz jgy xdkczmn vn jwnjgzoz. rz'gg cvqz oj mzvggt nozk pk jpm bvhz da rz rvio oj fzzk jpm hznnvbzn nvaz.\n",
      "Offset: 3 \n",
      "ykilqpano dwra najzanaz whh kb pdaoa khz yeldano wo kxokhapa. sa'hh dwra pk nawhhu opal ql kqn cwia eb sa swjp pk gaal kqn iaoowcao owba.\n",
      "Offset: 4 \n",
      "zljmrqbop exsb obkaboba xii lc qebpb lia zfmebop xp lyplibqb. tb'ii exsb ql obxiiv pqbm rm lro dxjb fc tb txkq ql hbbm lro jbppxdbp pxcb.\n",
      "Offset: 5 \n",
      "amknsrcpq fytc pclbcpcb yjj md rfcqc mjb agnfcpq yq mzqmjcrc. uc'jj fytc rm pcyjjw qrcn sn msp eykc gd uc uylr rm iccn msp kcqqyecq qydc.\n",
      "Offset: 6 \n",
      "bnlotsdqr gzud qdmcdqdc zkk ne sgdrd nkc bhogdqr zr narnkdsd. vd'kk gzud sn qdzkkx rsdo to ntq fzld he vd vzms sn jddo ntq ldrrzfdr rzed.\n",
      "Offset: 7 \n",
      "computers have rendered all of these old ciphers as obsolete. we'll have to really step up our game if we want to keep our messages safe.\n",
      "Offset: 8 \n",
      "dpnqvufst ibwf sfoefsfe bmm pg uiftf pme djqifst bt pctpmfuf. xf'mm ibwf up sfbmmz tufq vq pvs hbnf jg xf xbou up lffq pvs nfttbhft tbgf.\n",
      "Offset: 9 \n",
      "eqorwvgtu jcxg tgpfgtgf cnn qh vjgug qnf ekrjgtu cu qduqngvg. yg'nn jcxg vq tgcnna uvgr wr qwt icog kh yg ycpv vq mggr qwt oguucigu uchg.\n",
      "Offset: 10 \n",
      "frpsxwhuv kdyh uhqghuhg doo ri wkhvh rog flskhuv dv revrohwh. zh'oo kdyh wr uhdoob vwhs xs rxu jdph li zh zdqw wr nhhs rxu phvvdjhv vdih.\n",
      "Offset: 11 \n",
      "gsqtyxivw lezi virhivih epp sj xliwi sph gmtlivw ew sfwspixi. ai'pp lezi xs vieppc wxit yt syv keqi mj ai aerx xs oiit syv qiwwekiw weji.\n",
      "Offset: 12 \n",
      "htruzyjwx mfaj wjsijwji fqq tk ymjxj tqi hnumjwx fx tgxtqjyj. bj'qq mfaj yt wjfqqd xyju zu tzw lfrj nk bj bfsy yt pjju tzw rjxxfljx xfkj.\n",
      "Offset: 13 \n",
      "iusvazkxy ngbk xktjkxkj grr ul znkyk urj iovnkxy gy uhyurkzk. ck'rr ngbk zu xkgrre yzkv av uax mgsk ol ck cgtz zu qkkv uax skyygmky yglk.\n",
      "Offset: 14 \n",
      "jvtwbalyz ohcl yluklylk hss vm aolzl vsk jpwolyz hz vizvslal. dl'ss ohcl av ylhssf zalw bw vby nhtl pm dl dhua av rllw vby tlzzhnlz zhml.\n",
      "Offset: 15 \n",
      "kwuxcbmza pidm zmvlmzml itt wn bpmam wtl kqxpmza ia wjawtmbm. em'tt pidm bw zmittg abmx cx wcz oium qn em eivb bw smmx wcz umaaioma ainm.\n",
      "Offset: 16 \n",
      "lxvydcnab qjen anwmnanm juu xo cqnbn xum lryqnab jb xkbxuncn. fn'uu qjen cx anjuuh bcny dy xda pjvn ro fn fjwc cx tnny xda vnbbjpnb bjon.\n",
      "Offset: 17 \n",
      "mywzedobc rkfo boxnobon kvv yp droco yvn mszrobc kc ylcyvodo. go'vv rkfo dy bokvvi cdoz ez yeb qkwo sp go gkxd dy uooz yeb wocckqoc ckpo.\n",
      "Offset: 18 \n",
      "nzxafepcd slgp cpyopcpo lww zq espdp zwo ntaspcd ld zmdzwpep. hp'ww slgp ez cplwwj depa fa zfc rlxp tq hp hlye ez vppa zfc xpddlrpd dlqp.\n",
      "Offset: 19 \n",
      "oaybgfqde tmhq dqzpqdqp mxx ar ftqeq axp oubtqde me aneaxqfq. iq'xx tmhq fa dqmxxk efqb gb agd smyq ur iq imzf fa wqqb agd yqeemsqe emrq.\n",
      "Offset: 20 \n",
      "pbzchgref unir eraqrerq nyy bs gurfr byq pvcuref nf bofbyrgr. jr'yy unir gb ernyyl fgrc hc bhe tnzr vs jr jnag gb xrrc bhe zrffntrf fnsr.\n",
      "Offset: 21 \n",
      "qcadihsfg vojs fsbrsfsr ozz ct hvsgs czr qwdvsfg og cpgczshs. ks'zz vojs hc fsozzm ghsd id cif uoas wt ks kobh hc yssd cif asggousg gots.\n",
      "Offset: 22 \n",
      "rdbejitgh wpkt gtcstgts paa du iwtht das rxewtgh ph dqhdatit. lt'aa wpkt id gtpaan hite je djg vpbt xu lt lpci id ztte djg bthhpvth hput.\n",
      "Offset: 23 \n",
      "secfkjuhi xqlu hudtuhut qbb ev jxuiu ebt syfxuhi qi eriebuju. mu'bb xqlu je huqbbo ijuf kf ekh wqcu yv mu mqdj je auuf ekh cuiiqwui iqvu.\n"
     ]
    }
   ],
   "source": [
    "#brute force\n",
    "brute_txt = 'vhfinmxkl atox kxgwxkxw tee hy maxlx hew vbiaxkl tl hulhexmx. px\\'ee atox mh kxteer lmxi ni hnk ztfx by px ptgm mh dxxi hnk fxlltzxl ltyx.'\n",
    "for i in range(24):\n",
    "    brute_output = stringdecoder(brute_txt,i)\n",
    "    print('Offset: {} \\n{}'.format(i,brute_output))\n"
   ]
  },
  {
   "cell_type": "markdown",
   "metadata": {},
   "source": [
    "#### Step 5: The Vigenère Cipher\n",
    "\n",
    "Great work! While you were working on the brute force cracking of the cipher, Vishal sent over another letter. That guy is a letter machine!\n",
    "\n",
    "            Salutations! As you can see, technology has made brute forcing simple ciphers like the Caesar Cipher extremely easy, and us crypto-enthusiasts have had to get more creative and use more complicated ciphers. This next cipher I'm going to teach you is the Vigenère Cipher, invented by an Italian cryptologist named Giovan Battista Bellaso (cool name eh?) in the 16th century, but named after another cryptologist from the 16th century, Blaise de Vigenère.\n",
    "            \n",
    "           The Vigenère Cipher is a polyalphabetic substitution cipher, as opposed to the Caesar Cipher which was a monoalphabetic substitution cipher. What this means is that opposed to having a single shift that is applied to every letter, the Vigenère Cipher has a different shift for each individual letter. The value of the shift for each letter is determined by a given keyword.\n",
    "           \n",
    "           Consider the message\n",
    "           \n",
    "               barry is the spy\n",
    "\n",
    "           If we want to code this message, first we choose a keyword. For this example, we'll use the keyword\n",
    "           \n",
    "               dog\n",
    "               \n",
    "           Now we use the repeat the keyword over and over to generate a _keyword phrase_ that is the same length as the message we want to code. So if we want to code the message \"barry is the spy\" our _keyword phrase_ is \"dogdo gd ogd ogd\". Now we are ready to start coding our message. We shift the each letter of our message by the place value of the corresponding letter in the keyword phrase, assuming that \"a\" has a place value of 0, \"b\" has a place value of 1, and so forth. Remember, we zero-index because this is Python we're talking about!\n",
    "\n",
    "                        message:       b  a  r  r  y    i  s   t  h  e   s  p  y\n",
    "                \n",
    "                 keyword phrase:       d  o  g  d  o    g  d   o  g  d   o  g  d\n",
    "                 \n",
    "          resulting place value:       4  14 15 12 16   24 11  21 25 22  22 17 5\n",
    "      \n",
    "            So we shift \"b\", which has an index of 1, by the index of \"d\", which is 3. This gives us an place value of 4, which is \"e\". Then continue the trend: we shift \"a\" by the place value of \"o\", 14, and get \"o\" again, we shift \"r\" by the place value of \"g\", 15, and get \"x\", shift the next \"r\" by 12 places and \"u\", and so forth. Once we complete all the shifts we end up with our coded message:\n",
    "            \n",
    "                eoxum ov hnh gvb\n",
    "                \n",
    "            As you can imagine, this is a lot harder to crack without knowing the keyword! So now comes the hard part. I'll give you a message and the keyword, and you'll see if you can figure out how to crack it! Ready? Okay here's my message:\n",
    "            \n",
    "                dfc aruw fsti gr vjtwhr wznj? vmph otis! cbx swv jipreneo uhllj kpi rahjib eg fjdkwkedhmp!\n",
    "                \n",
    "            and the keyword to decode my message is \n",
    "            \n",
    "                friends\n",
    "                \n",
    "            Because that's what we are! Good luck friend!\n",
    "           \n",
    "And there it is. Vishal has given you quite the assignment this time! Try to decode his message. It may be helpful to create a function that takes two parameters, the coded message and the keyword and then work towards a solution from there.\n",
    "\n",
    "**NOTE:** Watch out for spaces and punctuation! When there's a space or punctuation mark in the original message, there should be a space/punctuation mark in the corresponding repeated-keyword string as well! "
   ]
  },
  {
   "cell_type": "code",
   "execution_count": 12,
   "metadata": {},
   "outputs": [],
   "source": [
    "#vigenere cipher decoder\n",
    "#first try, doesnt work properly\n",
    "\n",
    "def vigdecoder(string,keyword):\n",
    "\n",
    "    new_string = [] #temp new string list\n",
    "    dogstring = []\n",
    "    for i in range(len(string)):\n",
    "        if string[i] in [' ','?','!','.',',','\\'']:\n",
    "            dogstring.append(string[i])\n",
    "        else:\n",
    "            dogstring.append(keyword[i % len(keyword)])\n",
    "\n",
    "\n",
    "    for character in string.lower():\n",
    "        if character in [' ','?','!','.',',','\\'']: #if it's one of these chars, dont change\n",
    "            new_string.append(character)\n",
    "        else: #if it's one of these, change by offset\n",
    "            charindex = alphabet.find(character)\n",
    "            offset = alphabet.find(dogstring[i])\n",
    "            newchar = alphabet[(charindex + offset)%26] #allows for overflow to go back to start of alphabet\n",
    "            new_string.append(newchar)\n",
    "    return ''.join(new_string) #join the list of chars together in a string (I feel we can skip this step possibly..)"
   ]
  },
  {
   "cell_type": "code",
   "execution_count": 13,
   "metadata": {},
   "outputs": [],
   "source": [
    "#dogstring functino\n",
    "#separate function to create sentence of the keyword recycled\n",
    "def createdogstring(string,keyword):\n",
    "    temp_dogstring = []\n",
    "    for i in range(len(string)):\n",
    "        if string[i] in [' ','?','!','.',',','\\'']:\n",
    "            temp_dogstring.append(string[i])\n",
    "        else:\n",
    "            temp_dogstring.append(keyword[i % len(keyword)])\n",
    "    dogstring = ''.join(temp_dogstring)\n",
    "    return dogstring\n",
    "\n",
    "\n",
    "#does not take into account that the index in the keyword needs to 'freeze' when there's a special character"
   ]
  },
  {
   "cell_type": "code",
   "execution_count": 14,
   "metadata": {},
   "outputs": [],
   "source": [
    "#adjusted dogstring function\n",
    "#adjust to account for special charaters and freezing the index increment on the keyword.\n",
    "\n",
    "def createdogstring_updated(string,keyword):\n",
    "    temp_dogstring = []\n",
    "    index = 0\n",
    "    for i in range(len(string)):\n",
    "        if not string[i] in [' ','?','!','.',',','\\'']:\n",
    "            temp_dogstring.append(keyword[index % len(keyword)])\n",
    "            index += 1\n",
    "        else:\n",
    "            temp_dogstring.append(string[i])\n",
    "    dogstring = ''.join(temp_dogstring)\n",
    "    return dogstring"
   ]
  },
  {
   "cell_type": "code",
   "execution_count": 15,
   "metadata": {},
   "outputs": [
    {
     "name": "stdout",
     "output_type": "stream",
     "text": [
      "dogdo, gdog\n"
     ]
    }
   ],
   "source": [
    "#test updated dogstring\n",
    "teststring = createdogstring_updated('hello, test','dog')\n",
    "print(teststring)"
   ]
  },
  {
   "cell_type": "code",
   "execution_count": 16,
   "metadata": {},
   "outputs": [
    {
     "name": "stdout",
     "output_type": "stream",
     "text": [
      "dogdo, ogdo\n"
     ]
    }
   ],
   "source": [
    "#test old dogstring\n",
    "teststring = createdogstring('hello, test','dog')\n",
    "print(teststring)"
   ]
  },
  {
   "cell_type": "code",
   "execution_count": 17,
   "metadata": {},
   "outputs": [],
   "source": [
    "#final vigdecoder\n",
    "#### BIG NOTE:\n",
    "#### WE HAVE USED CHARINDEX MINUS THE OFFSET INDEX\n",
    "#### BASICALLY WHAT HAPPENED IS:\n",
    "#### IT IS HARD TO KEEP TRACK IF YOU HAVE TO CODE OR DECODE\n",
    "#### AS THE ONE IS BASICALLY THE NEGATIVE FORM OF THE OTHER\n",
    "#### ON OF THE FUNCTIONS TO CODE/DECODE WILL WORK FOR BOTH WITH A - SIGN IN THE OFFSET DIRECTION\n",
    "#### OR A DEFINED SIDE TO OFFSET IT TO\n",
    "\n",
    "\n",
    "def vigdecoder(string,keyword):\n",
    "\n",
    "    new_string = [] #temp new string list\n",
    "    dogstring = createdogstring_updated(string,keyword) #call on the dogstring creator function\n",
    "\n",
    "    #basically does the same as above functions but now offsets by the equivallant char in the keyword string.\n",
    "    for i in range(len(string)):\n",
    "        if string[i] in [' ','?','!','.',',','\\'']: #if it's one of these chars, dont change\n",
    "            new_string.append(string[i])\n",
    "        else: #if it's one of these, change by offset\n",
    "            charindex = alphabet.find(string[i])\n",
    "            offset = alphabet.find(dogstring[i])\n",
    "            newchar = alphabet[((charindex - offset)%26)] #allows for overflow to go back to start of alphabet\n",
    "            new_string.append(newchar)\n",
    "    return ''.join(new_string) #join the list of chars together in a string (I feel we can skip this step possibly..)"
   ]
  },
  {
   "cell_type": "code",
   "execution_count": 18,
   "metadata": {},
   "outputs": [
    {
     "data": {
      "text/plain": [
       "'ymlok cp fbb ejv'"
      ]
     },
     "execution_count": 18,
     "metadata": {},
     "output_type": "execute_result"
    }
   ],
   "source": [
    "# test the final vigdecoder function\n",
    "#we test the function with the example\n",
    "#note: VScode/ipynb prints the result of this but you should probably save this to a variable\n",
    "vigdecoder('barry is the spy','dog')"
   ]
  },
  {
   "cell_type": "code",
   "execution_count": 19,
   "metadata": {},
   "outputs": [
    {
     "data": {
      "text/plain": [
       "'you were able to decode this? nice work! you are becoming quite the expert at crytography!'"
      ]
     },
     "execution_count": 19,
     "metadata": {},
     "output_type": "execute_result"
    }
   ],
   "source": [
    "#decode the message\n",
    "vigdecoder('dfc aruw fsti gr vjtwhr wznj? vmph otis! cbx swv jipreneo uhllj kpi rahjib eg fjdkwkedhmp!','friends')"
   ]
  },
  {
   "cell_type": "code",
   "execution_count": 20,
   "metadata": {},
   "outputs": [
    {
     "data": {
      "text/plain": [
       "'fri ends frie nd sfrien dsfr? iend sfri! end sfr iendsfri endsf rie ndsfri en dsfriendsfr!'"
      ]
     },
     "execution_count": 20,
     "metadata": {},
     "output_type": "execute_result"
    }
   ],
   "source": [
    "#check dogstring\n",
    "#works as we expected it to work\n",
    "createdogstring_updated('dfc aruw fsti gr vjtwhr wznj? vmph otis! cbx swv jipreneo uhllj kpi rahjib eg fjdkwkedhmp!','friends')"
   ]
  },
  {
   "cell_type": "code",
   "execution_count": 21,
   "metadata": {},
   "outputs": [
    {
     "data": {
      "text/plain": [
       "'ymlok cp fbb ejv'"
      ]
     },
     "execution_count": 21,
     "metadata": {},
     "output_type": "execute_result"
    }
   ],
   "source": [
    "vigdecoder('barry is the spy','dog')"
   ]
  },
  {
   "cell_type": "code",
   "execution_count": 22,
   "metadata": {},
   "outputs": [],
   "source": [
    "#add offset side\n",
    "#create new function which adds a side to offset to\n",
    "#defaults to right as I think it makes hte most sense\n",
    "\n",
    "def vigdecoder_side(string,keyword,side='right'):\n",
    "\n",
    "    if not side.lower() in ['left','right']:\n",
    "        print('Select a valid offset, either  \\'right\\' (default) or specify \\'left\\'')\n",
    "        return\n",
    "\n",
    "    new_string = [] #temp new string list\n",
    "    dogstring = createdogstring_updated(string,keyword) #call on the dogstring creator function\n",
    "\n",
    "    #basically does the same as above functions but now offsets by the equivallant char in the keyword string.\n",
    "    for i in range(len(string)):\n",
    "        if string[i] in [' ','?','!','.',',','\\'']: #if it's one of these chars, dont change\n",
    "            new_string.append(string[i])\n",
    "        else: #if it's one of these, change by offset\n",
    "            charindex = alphabet.find(string[i])\n",
    "            offset = alphabet.find(dogstring[i])\n",
    "            if side.lower() == 'left':\n",
    "                newchar = alphabet[((charindex - offset)%26)] #allows for overflow to go back to start of alphabet\n",
    "            else:\n",
    "                newchar = alphabet[((charindex + offset)%26)] #allows for overflow to go back to start of alphabet\n",
    "            new_string.append(newchar)\n",
    "    return ''.join(new_string) #join the list of chars together in a string (I feel we can skip this step possibly..)"
   ]
  },
  {
   "cell_type": "code",
   "execution_count": 23,
   "metadata": {},
   "outputs": [
    {
     "name": "stdout",
     "output_type": "stream",
     "text": [
      "Select a valid offset, either  'right' (default) or specify 'left'\n"
     ]
    }
   ],
   "source": [
    "#testing function break\n",
    "vigdecoder_side('barry is the spy','dog','middle')"
   ]
  },
  {
   "cell_type": "code",
   "execution_count": 24,
   "metadata": {},
   "outputs": [
    {
     "data": {
      "text/plain": [
       "'you were able to decode this? nice work! you are becoming quite the expert at crytography!'"
      ]
     },
     "execution_count": 24,
     "metadata": {},
     "output_type": "execute_result"
    }
   ],
   "source": [
    "#decode message\n",
    "vigdecoder_side('dfc aruw fsti gr vjtwhr wznj? vmph otis! cbx swv jipreneo uhllj kpi rahjib eg fjdkwkedhmp!','friends','left')"
   ]
  },
  {
   "cell_type": "markdown",
   "metadata": {
    "collapsed": true
   },
   "source": [
    "#### Step 6: Send a message with the  Vigenère Cipher\n",
    "Great work decoding the message. For your final task, write a function that can encode a message using a given keyword and write out a message to send to Vishal!\n",
    "\n",
    "*As a bonus, try calling your decoder function on the result of your encryption function. You should get the original message back!*"
   ]
  },
  {
   "cell_type": "code",
   "execution_count": 25,
   "metadata": {},
   "outputs": [],
   "source": [
    "#vigcoder\n",
    "#should be the same but offset the other way\n",
    "#coder/decoder basically the same besides offset direction.\n",
    "\n",
    "\n",
    "def vigcoder_side(string,keyword,side='right'):\n",
    "\n",
    "    if not side.lower() in ['left','right']:\n",
    "        print('Select a valid offset, either  \\'right\\' (default) or specify \\'left\\'')\n",
    "        return\n",
    "\n",
    "    new_string = [] #temp new string list\n",
    "    dogstring = createdogstring_updated(string,keyword) #call on the dogstring creator function\n",
    "\n",
    "    #basically does the same as above functions but now offsets by the equivallant char in the keyword string.\n",
    "    for i in range(len(string)):\n",
    "        if string[i] in [' ','?','!','.',',','\\'']: #if it's one of these chars, dont change\n",
    "            new_string.append(string[i])\n",
    "        else: #if it's one of these, change by offset\n",
    "            charindex = alphabet.find(string.lower()[i])\n",
    "            offset = alphabet.find(dogstring[i])\n",
    "            if side.lower() == 'left':\n",
    "                newchar = alphabet[((charindex + offset)%26)] #allows for overflow to go back to start of alphabet\n",
    "            else:\n",
    "                newchar = alphabet[((charindex - offset)%26)] #allows for overflow to go back to start of alphabet\n",
    "            new_string.append(newchar)\n",
    "    return ''.join(new_string) #join the list of chars together in a string (I feel we can skip this step possibly..)"
   ]
  },
  {
   "cell_type": "code",
   "execution_count": 26,
   "metadata": {},
   "outputs": [
    {
     "data": {
      "text/plain": [
       "\"did we do it? let's find out!\""
      ]
     },
     "execution_count": 26,
     "metadata": {},
     "output_type": "execute_result"
    }
   ],
   "source": [
    "magictest = vigcoder_side('Did we do it? Let\\'s find out!','magic')\n",
    "vigdecoder_side(magictest,'magic')\n",
    "\n",
    "#as we can see, it does not account for the capital letters correctly:"
   ]
  },
  {
   "cell_type": "code",
   "execution_count": 27,
   "metadata": {},
   "outputs": [],
   "source": [
    "#adjust for capitals\n",
    "def createdogstring_capitals(string,keyword):\n",
    "    temp_dogstring = []\n",
    "    index = 0\n",
    "    keyword = keyword.lower()\n",
    "    string = string.lower()\n",
    "    for i in range(len(string)):\n",
    "        if not string[i] in [' ','?','!','.',',','\\'']:\n",
    "            temp_dogstring.append(keyword[index % len(keyword)])\n",
    "            index += 1\n",
    "        else:\n",
    "            temp_dogstring.append(string[i])\n",
    "    dogstring = ''.join(temp_dogstring)\n",
    "    return dogstring"
   ]
  },
  {
   "cell_type": "code",
   "execution_count": 28,
   "metadata": {},
   "outputs": [],
   "source": [
    "#adjust for caps\n",
    "def vigcoder_side_capital(string,keyword,side='right'):\n",
    "\n",
    "    if not side.lower() in ['left','right']:\n",
    "        print('Select a valid offset, either  \\'right\\' (default) or specify \\'left\\'')\n",
    "        return\n",
    "\n",
    "    new_string = [] #temp new string list\n",
    "    dogstring = createdogstring_capitals(string,keyword) #call on the dogstring creator function\n",
    "\n",
    "    #basically does the same as above functions but now offsets by the equivallant char in the keyword string.\n",
    "    for i in range(len(string)):\n",
    "        if string[i] in [' ','?','!','.',',','\\'']: #if it's one of these chars, dont change\n",
    "            new_string.append(string[i])\n",
    "        else: #if it's one of these, change by offset\n",
    "            charindex = alphabet.find(string.lower()[i])\n",
    "            offset = alphabet.find(dogstring[i])\n",
    "            if side.lower() == 'left':\n",
    "                newchar = alphabet[((charindex + offset)%26)] #allows for overflow to go back to start of alphabet\n",
    "            else:\n",
    "                newchar = alphabet[((charindex - offset)%26)] #allows for overflow to go back to start of alphabet\n",
    "            new_string.append(newchar)\n",
    "    return ''.join(new_string) #join the list of chars together in a string (I feel we can skip this step possibly..)"
   ]
  },
  {
   "cell_type": "code",
   "execution_count": 29,
   "metadata": {},
   "outputs": [
    {
     "name": "stdout",
     "output_type": "stream",
     "text": [
      "rix oc ro cl? jst'm xgbd imr!\n"
     ]
    },
    {
     "data": {
      "text/plain": [
       "\"did we do it? let's find out!\""
      ]
     },
     "execution_count": 29,
     "metadata": {},
     "output_type": "execute_result"
    }
   ],
   "source": [
    "magictest = vigcoder_side_capital('Did we do it? Let\\'s find out!','magic')\n",
    "print(magictest)\n",
    "vigdecoder_side(magictest,'magic')"
   ]
  },
  {
   "cell_type": "code",
   "execution_count": 30,
   "metadata": {},
   "outputs": [],
   "source": [
    "#adjust for caps\n",
    "def vigcode_decode(string,keyword,side='decode'):\n",
    "\n",
    "    if not side.lower() in ['code','decode']:\n",
    "        print('Select a valid offset, either  \\'decode\\' (default) or specify \\'code\\'')\n",
    "        return\n",
    "\n",
    "    new_string = [] #temp new string list\n",
    "    dogstring = createdogstring_capitals(string,keyword) #call on the dogstring creator function\n",
    "\n",
    "    #basically does the same as above functions but now offsets by the equivallant char in the keyword string.\n",
    "    for i in range(len(string)):\n",
    "        if string[i] in [' ','?','!','.',',','\\'']: #if it's one of these chars, dont change\n",
    "            new_string.append(string[i])\n",
    "        else: #if it's one of these, change by offset\n",
    "            charindex = alphabet.find(string.lower()[i])\n",
    "            offset = alphabet.find(dogstring[i])\n",
    "            if side.lower() == 'code':\n",
    "                newchar = alphabet[((charindex + offset)%26)] #allows for overflow to go back to start of alphabet\n",
    "            else:\n",
    "                newchar = alphabet[((charindex - offset)%26)] #allows for overflow to go back to start of alphabet\n",
    "            new_string.append(newchar)\n",
    "    return ''.join(new_string) #join the list of chars together in a string (I feel we can skip this step possibly..)"
   ]
  },
  {
   "cell_type": "code",
   "execution_count": 31,
   "metadata": {},
   "outputs": [
    {
     "data": {
      "text/plain": [
       "'eoxum ov hnh gvb'"
      ]
     },
     "execution_count": 31,
     "metadata": {},
     "output_type": "execute_result"
    }
   ],
   "source": [
    "#adjust for keyword\n",
    "#have 1 function both code/decode\n",
    "vigcode_decode('barry is the spy','dog','code')"
   ]
  },
  {
   "cell_type": "code",
   "execution_count": 32,
   "metadata": {},
   "outputs": [
    {
     "data": {
      "text/plain": [
       "'barry is the spy'"
      ]
     },
     "execution_count": 32,
     "metadata": {},
     "output_type": "execute_result"
    }
   ],
   "source": [
    "#adjust for code/decode\n",
    "vigcode_decode('eoxum ov hnh gvb','dog','decode')"
   ]
  },
  {
   "cell_type": "code",
   "execution_count": 33,
   "metadata": {},
   "outputs": [],
   "source": [
    "#Rework to skip the list\n",
    "#we skip the list step and go straight into string, as I already felt it should be possible, just didnt know how.\n",
    "\n",
    "\n",
    "#create a decoder\n",
    "#placeholder for the alphabet\n",
    "alphabet = 'abcdefghijklmnopqrstuvwxyz'\n",
    "#function\n",
    "def stringdecoder_skiplist(string,offset):\n",
    "    new_string = '' #temp new string list\n",
    "\n",
    "    for character in string.lower():\n",
    "        if character in [' ','?','!','.',',','\\'']: #if it's one of these chars, dont change\n",
    "            new_string += character\n",
    "        else: #if it's one of these, change by offset\n",
    "            charindex = alphabet.find(character)\n",
    "            newchar = alphabet[(charindex + offset)%26] #allows for overflow to go back to start of alphabet\n",
    "            new_string += newchar\n",
    "    return new_string #(I feel we can skip this step possibly..)"
   ]
  },
  {
   "cell_type": "code",
   "execution_count": 48,
   "metadata": {},
   "outputs": [
    {
     "name": "stdout",
     "output_type": "stream",
     "text": [
      "CPU times: user 15 µs, sys: 0 ns, total: 15 µs\n",
      "Wall time: 18.8 µs\n"
     ]
    },
    {
     "data": {
      "text/plain": [
       "'ebiil'"
      ]
     },
     "execution_count": 48,
     "metadata": {},
     "output_type": "execute_result"
    }
   ],
   "source": [
    "%%time\n",
    "#check the timings of skipping the list and not on the small function\n",
    "stringdecoder('hello',-3)"
   ]
  },
  {
   "cell_type": "code",
   "execution_count": 49,
   "metadata": {},
   "outputs": [
    {
     "name": "stdout",
     "output_type": "stream",
     "text": [
      "CPU times: user 8 µs, sys: 1 µs, total: 9 µs\n",
      "Wall time: 10 µs\n"
     ]
    },
    {
     "data": {
      "text/plain": [
       "'ebiil'"
      ]
     },
     "execution_count": 49,
     "metadata": {},
     "output_type": "execute_result"
    }
   ],
   "source": [
    "%%time\n",
    "stringdecoder_skiplist('hello',-3)"
   ]
  },
  {
   "cell_type": "code",
   "execution_count": 50,
   "metadata": {},
   "outputs": [
    {
     "name": "stdout",
     "output_type": "stream",
     "text": [
      "CPU times: user 46 µs, sys: 1 µs, total: 47 µs\n",
      "Wall time: 48.9 µs\n"
     ]
    },
    {
     "data": {
      "text/plain": [
       "'qbpqfkd qefp tfqe x ilkd, yrq sbov klq rpbcri pqofkd. grpq ql pbb qeb qfjfkdp xka pbb fc fq jxhbp x afccbobkzb'"
      ]
     },
     "execution_count": 50,
     "metadata": {},
     "output_type": "execute_result"
    }
   ],
   "source": [
    "%%time\n",
    "stringdecoder_skiplist('testing this with a long, but very not useful string. just to see THE timings and SEE IF IT MAKES a difference',-3)"
   ]
  },
  {
   "cell_type": "code",
   "execution_count": 51,
   "metadata": {},
   "outputs": [
    {
     "name": "stdout",
     "output_type": "stream",
     "text": [
      "CPU times: user 74 µs, sys: 1 µs, total: 75 µs\n",
      "Wall time: 80.1 µs\n"
     ]
    },
    {
     "data": {
      "text/plain": [
       "'qbpqfkd qefp tfqe x ilkd, yrq sbov klq rpbcri pqofkd. grpq ql pbb qeb qfjfkdp xka pbb fc fq jxhbp x afccbobkzb'"
      ]
     },
     "execution_count": 51,
     "metadata": {},
     "output_type": "execute_result"
    }
   ],
   "source": [
    "%%time\n",
    "#check the timings of skipping the list and not on the small function\n",
    "stringdecoder('testing this with a long, but very not useful string. just to see THE timings and SEE IF IT MAKES a difference',-3)"
   ]
  },
  {
   "cell_type": "code",
   "execution_count": null,
   "metadata": {},
   "outputs": [],
   "source": [
    "#timing conclusion\n",
    "\n",
    "#we can see that the timing with skipping the list is only about 60% of the time of the with list\n",
    "#this will only add up with a longer string\n",
    "\n",
    "#future goals: \n",
    "#redo the functions to make them skip the list and straight into string\n",
    "#I will leave them like this for now."
   ]
  },
  {
   "cell_type": "markdown",
   "metadata": {},
   "source": [
    "#### Conclusion\n",
    "Over the course of this project you've learned about two different cipher methods and have used your Python skills to code and decode messages. There are all types of other facinating ciphers out there to explore, and Python is the perfect language to implement them with, so go exploring! "
   ]
  }
 ],
 "metadata": {
  "kernelspec": {
   "display_name": "Python 3.10.4 ('myenv')",
   "language": "python",
   "name": "python3"
  },
  "language_info": {
   "codemirror_mode": {
    "name": "ipython",
    "version": 3
   },
   "file_extension": ".py",
   "mimetype": "text/x-python",
   "name": "python",
   "nbconvert_exporter": "python",
   "pygments_lexer": "ipython3",
   "version": "3.10.4"
  },
  "vscode": {
   "interpreter": {
    "hash": "8299ac643b24169738f464cb3151973c598893e9116bb183ff0ae348ee081e84"
   }
  }
 },
 "nbformat": 4,
 "nbformat_minor": 2
}
